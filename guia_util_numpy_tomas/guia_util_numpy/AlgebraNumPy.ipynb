{
 "cells": [
  {
   "attachments": {},
   "cell_type": "markdown",
   "metadata": {},
   "source": [
    "Ejemplos de NumPy"
   ]
  },
  {
   "cell_type": "code",
   "execution_count": 1,
   "metadata": {},
   "outputs": [],
   "source": [
    "# Importamos la librería\n",
    "\n",
    "import numpy as np"
   ]
  },
  {
   "attachments": {},
   "cell_type": "markdown",
   "metadata": {},
   "source": [
    "Vectores y Matrices"
   ]
  },
  {
   "cell_type": "code",
   "execution_count": 2,
   "metadata": {},
   "outputs": [
    {
     "name": "stdout",
     "output_type": "stream",
     "text": [
      "------------------------------------------\n",
      "VECTORES\n",
      "------------------------------------------\n",
      "El Vector 1 es [0 1 2 3 4 5]\n",
      "El elemento 1 del vector 1 es 1\n",
      "Los primeros 3 elementos del vector 1 son [0 1 2]\n",
      "Los elementos del V1 mayores a 2 son [3 4 5]\n",
      "La longitud del vector 1 es de 6 elementos\n"
     ]
    }
   ],
   "source": [
    "# Vectores\n",
    "print(\"------------------------------------------\")\n",
    "print(\"VECTORES\")\n",
    "print(\"------------------------------------------\")\n",
    "V1 = np.array([0,1,2,3,4,5])\n",
    "V2 = np.array([10,15,25,50,100])\n",
    "\n",
    "print(\"El Vector 1 es {}\".format(V1))\n",
    "\n",
    "# Podemos llamar a elementos concretos del arreglo al igual que en las listas de python.\n",
    "# Obs: Recuerden que python empieza a contar desde 0\n",
    "\n",
    "elemento_1_V1 = V1[1]\n",
    "primeros_3_elementos_V1 = V1[0:3]\n",
    "\n",
    "print(\"El elemento 1 del vector 1 es {}\".format(elemento_1_V1))\n",
    "print(\"Los primeros 3 elementos del vector 1 son {}\".format(primeros_3_elementos_V1))\n",
    "\n",
    "# Incluso podemos hacer lo que se llama indexación booleana\n",
    "\n",
    "Mayores_a_2_V1 = V1[V1>2]\n",
    "print(\"Los elementos del V1 mayores a 2 son {}\".format(Mayores_a_2_V1))\n",
    "\n",
    "# Podemos ver la forma del vector\n",
    "\n",
    "longitud_V1 = V1.shape[0]\n",
    "print(\"La longitud del vector 1 es de {} elementos\".format(longitud_V1))"
   ]
  },
  {
   "attachments": {},
   "cell_type": "markdown",
   "metadata": {},
   "source": [
    "Matrices"
   ]
  },
  {
   "cell_type": "code",
   "execution_count": 3,
   "metadata": {},
   "outputs": [
    {
     "name": "stdout",
     "output_type": "stream",
     "text": [
      "------------------------------------------\n",
      "Matrices\n",
      "------------------------------------------\n",
      "La segunda matriz es \n",
      "  [[-1  2 -3]\n",
      " [ 4 -5  6]]\n",
      "El elemento 0,0 de la matriz 2 es -1\n",
      "La primera fila de la matriz 2 es [-1  2 -3]\n",
      "La matriz 2 es de forma (2, 3);\n",
      "Es decir, tiene 2 filas y 3 columnas.\n",
      "La matriz traspuesta de M2 es\n",
      " [[-1  4]\n",
      " [ 2 -5]\n",
      " [-3  6]]\n"
     ]
    }
   ],
   "source": [
    "\n",
    "\n",
    "print(\"------------------------------------------\")\n",
    "print(\"Matrices\")\n",
    "print(\"------------------------------------------\")\n",
    "# De forma análoga, podemos crear matrices. \n",
    "# En estos casos, dentro de np.array hay que pasar una lista de listas\n",
    "M1 = np.array([[1,2,3],[4,5,6]])\n",
    "M2 = np.array([[-1,2,-3],[4,-5,6]])\n",
    "\n",
    "print(\"La segunda matriz es \\n  {}\".format(M2))\n",
    "\n",
    "# Podemos hacer lo mismo que los vectores\n",
    "\n",
    "print(\"El elemento 0,0 de la matriz 2 es {}\".format(M2[0,0]))\n",
    "print(\"La primera fila de la matriz 2 es {}\".format(M2[0,:]))\n",
    "\n",
    "print(\"La matriz 2 es de forma {};\\nEs decir, tiene {} filas y {} columnas.\".format(M2.shape,M2.shape[0],M2.shape[1]))\n",
    "\n",
    "# También se puede encontrar la matriz traspuesta de M2\n",
    "\n",
    "print(\"La matriz traspuesta de M2 es\\n {}\".format(M2.T)) # np.transpose también se puede usar\n",
    "\n"
   ]
  },
  {
   "attachments": {},
   "cell_type": "markdown",
   "metadata": {},
   "source": [
    "Operaciones básicas"
   ]
  },
  {
   "cell_type": "code",
   "execution_count": 4,
   "metadata": {},
   "outputs": [
    {
     "name": "stdout",
     "output_type": "stream",
     "text": [
      "------------------------------------------\n",
      "Operaciones básicas\n",
      "------------------------------------------\n",
      "La suma de vectores es [ 10  16  27  53 104]\n",
      "La resta de matrices dá:\n",
      " [[ 2  0  6]\n",
      " [ 0 10  0]]\n"
     ]
    }
   ],
   "source": [
    "# Sumas y restas\n",
    "print(\"------------------------------------------\")\n",
    "print(\"Operaciones básicas\")\n",
    "print(\"------------------------------------------\")\n",
    "\n",
    "# Lo bueno es que las operaciones elemento a elemento vienen por default con los objetos de numpy\n",
    "# Obs: Hay que sacarle un elemento a V1 porque tiene 6 elementos en vez de 5, que es lo que tiene V2\n",
    "\n",
    "print(\"La suma de vectores es {}\".format(V1[:5] + V2)) #np.add() se puede usar para lo mismo\n",
    "print(\"La resta de matrices dá:\\n {}\".format(M1-M2)) #np.subtract() se puede usar para lo mismo\n",
    "\n"
   ]
  },
  {
   "cell_type": "code",
   "execution_count": 5,
   "metadata": {},
   "outputs": [
    {
     "name": "stdout",
     "output_type": "stream",
     "text": [
      "La multiplicación de vectores elemento a elemento dá [  0  15  50 150 400]\n",
      "La división de matrices elemento a elemento dá\n",
      " [[-1.  1. -1.]\n",
      " [ 1. -1.  1.]]\n"
     ]
    }
   ],
   "source": [
    "# Multiplicación y división elemento a elemento\n",
    "print(\"La multiplicación de vectores elemento a elemento dá {}\".format(V1[:5]*V2)) #  np.multiply\n",
    "print(\"La división de matrices elemento a elemento dá\\n {}\".format(M1/M2)) # np.divide\n",
    "\n"
   ]
  },
  {
   "cell_type": "code",
   "execution_count": 6,
   "metadata": {},
   "outputs": [
    {
     "name": "stdout",
     "output_type": "stream",
     "text": [
      "Multiplicación elemento a elemento vector 1 x Matriz 2 dá \n",
      " [[ 0  2 -6]\n",
      " [ 0 -5 12]]\n"
     ]
    }
   ],
   "source": [
    "# Obs para vector vs matriz. Si el vector es del largo de las filas de las matrices\n",
    "#  se multiplica fila x fila, elemento x elemento\n",
    "\n",
    "print(\"Multiplicación elemento a elemento vector 1 x Matriz 2 dá \\n {}\".format(V1[:3]*M2))\n"
   ]
  },
  {
   "attachments": {},
   "cell_type": "markdown",
   "metadata": {},
   "source": [
    "Calculos sobre columnas o filas"
   ]
  },
  {
   "cell_type": "code",
   "execution_count": 7,
   "metadata": {},
   "outputs": [
    {
     "name": "stdout",
     "output_type": "stream",
     "text": [
      "------------------------------------------\n",
      "Filas o Columnas\n",
      "------------------------------------------\n",
      "La suma de las columnas de la matriz 2 dá [ 3 -3  3]\n",
      "El mínimo de las filas de la matriz 2 dá [-3 -5]\n",
      "La media de todos los valores de la matriz 2 da 0.5\n",
      "La mediana de todos los valores de la matriz 2 da 0.5\n",
      "El desvío de todos los valores de la matriz 2 da 3.8622100754188224\n"
     ]
    }
   ],
   "source": [
    "print(\"------------------------------------------\")\n",
    "print(\"Filas o Columnas\")\n",
    "print(\"------------------------------------------\")\n",
    "\n",
    "print(\"La suma de las columnas de la matriz 2 dá {}\".format(M2.sum(axis=0)))\n",
    "print(\"El mínimo de las filas de la matriz 2 dá {}\".format(M2.min(axis=1)))\n",
    "print(\"La media de todos los valores de la matriz 2 da {}\".format(M2.mean()))\n",
    "print(\"La mediana de todos los valores de la matriz 2 da {}\".format(np.median(M2)))\n",
    "print(\"El desvío de todos los valores de la matriz 2 da {}\".format(M2.std()))"
   ]
  },
  {
   "attachments": {},
   "cell_type": "markdown",
   "metadata": {},
   "source": [
    "Operaciones para cada elemento"
   ]
  },
  {
   "cell_type": "code",
   "execution_count": 8,
   "metadata": {},
   "outputs": [
    {
     "name": "stdout",
     "output_type": "stream",
     "text": [
      "------------------------------------------\n",
      "Operaciones para cada elemento\n",
      "------------------------------------------\n",
      "e elevado a cada elemento del vector 1 dá\n",
      " [  1.           2.71828183   7.3890561   20.08553692  54.59815003\n",
      " 148.4131591 ]\n",
      "La raíz cuadrada de cada elemento del vector 1 dá\n",
      " [0.         1.         1.41421356 1.73205081 2.         2.23606798]\n",
      "El seno de cada elemento del vector 1 dá\n",
      " [ 0.          0.84147098  0.90929743  0.14112001 -0.7568025  -0.95892427]\n",
      "El coseno de cada elemento del vector 1 dá\n",
      " [ 1.          0.54030231 -0.41614684 -0.9899925  -0.65364362  0.28366219]\n",
      "El logaritmo natural cada elemento del vector 2 dá\n",
      " [2.30258509 2.7080502  3.21887582 3.91202301 4.60517019]\n"
     ]
    }
   ],
   "source": [
    "print(\"------------------------------------------\")\n",
    "print(\"Operaciones para cada elemento\")\n",
    "print(\"------------------------------------------\")\n",
    "\n",
    "print(\"e elevado a cada elemento del vector 1 dá\\n {}\".format(np.exp(V1))) \n",
    "print(\"La raíz cuadrada de cada elemento del vector 1 dá\\n {}\".format(np.sqrt(V1)))\n",
    "print(\"El seno de cada elemento del vector 1 dá\\n {}\".format(np.sin(V1)))\n",
    "print(\"El coseno de cada elemento del vector 1 dá\\n {}\".format(np.cos(V1)))\n",
    "print(\"El logaritmo natural cada elemento del vector 2 dá\\n {}\".format(np.log(V2)))\n"
   ]
  },
  {
   "attachments": {},
   "cell_type": "markdown",
   "metadata": {},
   "source": [
    "Multiplicación de matrices (dot product)"
   ]
  },
  {
   "cell_type": "code",
   "execution_count": 9,
   "metadata": {},
   "outputs": [
    {
     "name": "stdout",
     "output_type": "stream",
     "text": [
      "La multiplicación de los vectores 1 y 2 dá 615\n",
      "!!!!!!!!!!!!!!!!!!!!!!!!!!!!!!!!!!!!!!!\n",
      "Hay que tener cuidado con las trasposiciónes\n",
      "La multiplicación de las matrices 1 y 2 dá\n",
      " [[ -6  12]\n",
      " [-12  27]]\n"
     ]
    }
   ],
   "source": [
    "# Multiplicamos primero los vectores\n",
    "\n",
    "print(\"La multiplicación de los vectores 1 y 2 dá {}\".format(np.dot(V1[:5],V2))) \n",
    "# Obs: NumPy nos perdona que no hayamos traspuesto el vector. Pero con las matrices no es tán comprensivo\n",
    "\n",
    "try:\n",
    "    print(\"La multiplicación de las matrices 1 y 2 dá {}\".format(np.dot(M1, M2)))\n",
    "# Si esto tira error\n",
    "except:\n",
    "    print(\"!!!!!!!!!!!!!!!!!!!!!!!!!!!!!!!!!!!!!!!\")\n",
    "    print(\"Hay que tener cuidado con las trasposiciónes\")\n",
    "    print(\"La multiplicación de las matrices 1 y 2 dá\\n {}\".format(np.dot(M1, M2.T)))"
   ]
  },
  {
   "attachments": {},
   "cell_type": "markdown",
   "metadata": {},
   "source": [
    "Comparar matrices y vectores"
   ]
  },
  {
   "cell_type": "code",
   "execution_count": 10,
   "metadata": {},
   "outputs": [
    {
     "name": "stdout",
     "output_type": "stream",
     "text": [
      "------------------------------------------\n",
      "Comparación\n",
      "------------------------------------------\n",
      "Comparando elemento a elemento las matrices 1 y 2 obtenemos que: \n",
      "[[False  True False]\n",
      " [ True False  True]]\n",
      "Si comparamos la totalidad de los vectores 1 y 2 obtenemos que:\n",
      "False\n",
      "Podemos ver si los elementos de la matriz 2 son mayores que 2 elemento a elemento:\n",
      "[[False False False]\n",
      " [ True False  True]]\n"
     ]
    }
   ],
   "source": [
    "print(\"------------------------------------------\")\n",
    "print(\"Comparación\")\n",
    "print(\"------------------------------------------\")\n",
    "\n",
    "print(\"Comparando elemento a elemento las matrices 1 y 2 obtenemos que: \\n{}\".format(M1==M2))\n",
    "print(\"Si comparamos la totalidad de los vectores 1 y 2 obtenemos que:\\n{}\".format(np.array_equal(V1,V2)))\n",
    "print(\"Podemos ver si los elementos de la matriz 2 son mayores que 2 elemento a elemento:\\n{}\".format(M2>2))\n"
   ]
  },
  {
   "attachments": {},
   "cell_type": "markdown",
   "metadata": {},
   "source": [
    "Transformaciones a los arrays"
   ]
  },
  {
   "cell_type": "code",
   "execution_count": 11,
   "metadata": {},
   "outputs": [
    {
     "name": "stdout",
     "output_type": "stream",
     "text": [
      "------------------------------------------\n",
      "Transformaciones de arrays\n",
      "------------------------------------------\n",
      "Si aplanamos la matriz 2 obtenemos: \n",
      "[-1  2 -3  4 -5  6]\n",
      "Podemos cambiar de forma la matriz 1:\n",
      "[[1 2]\n",
      " [3 4]\n",
      " [5 6]]\n",
      "Con el mismo reshape podemos 'verticalizar' los vectores. Por ejemplo el primero: \n",
      "[[0]\n",
      " [1]\n",
      " [2]\n",
      " [3]\n",
      " [4]\n",
      " [5]]\n"
     ]
    }
   ],
   "source": [
    "print(\"------------------------------------------\")\n",
    "print(\"Transformaciones de arrays\")\n",
    "print(\"------------------------------------------\")\n",
    "\n",
    "print(\"Si aplanamos la matriz 2 obtenemos: \\n{}\".format(M2.ravel()))\n",
    "print(\"Podemos cambiar de forma la matriz 1:\\n{}\".format(M1.reshape(3,2)))\n",
    "print(\"Con el mismo reshape podemos 'verticalizar' los vectores. Por ejemplo el primero: \\n{}\".format(V1.reshape(-1,1))) # Obs, V1.T no funciona en estos casos\n",
    "\n",
    "\n"
   ]
  },
  {
   "cell_type": "code",
   "execution_count": 12,
   "metadata": {},
   "outputs": [
    {
     "name": "stdout",
     "output_type": "stream",
     "text": [
      "Se puede hacer un append a los vectores, por lo que el primero quedaría:\n",
      "[0 1 2 3 4 5 0]\n",
      "Se puede insertar en una posición específica, por lo que podemos modificar al primero y quedaría:\n",
      "[0 7 1 2 3 4 5]\n",
      "Y se puede elimiar valores de un array. El segundo vector quedaría: \n",
      "[ 10  25  50 100]\n"
     ]
    }
   ],
   "source": [
    "#Append\n",
    "V3=np.append(V1,0)\n",
    "# Insert\n",
    "V4=np.insert(V1,1,7)\n",
    "# delete\n",
    "V5=np.delete(V2,1)\n",
    "print(\"Se puede hacer un append a los vectores, por lo que el primero quedaría:\\n{}\".format(V3))\n",
    "print(\"Se puede insertar en una posición específica, por lo que podemos modificar al primero y quedaría:\\n{}\".format(V4))\n",
    "print(\"Y se puede elimiar valores de un array. El segundo vector quedaría: \\n{}\".format(V5))\n"
   ]
  },
  {
   "cell_type": "code",
   "execution_count": 13,
   "metadata": {},
   "outputs": [
    {
     "name": "stdout",
     "output_type": "stream",
     "text": [
      "Se pueden apilar los vectores horizontalmente o verticalmente para generar una matriz\n",
      "Horizontalmente dá\n",
      "[  0   1   2   3   4  10  15  25  50 100]\n",
      "Verticalmente dá\n",
      "[[  0   1   2   3   4]\n",
      " [ 10  15  25  50 100]]\n"
     ]
    }
   ],
   "source": [
    "print(\"Se pueden apilar los vectores horizontalmente o verticalmente para generar una matriz\")\n",
    "print(\"Horizontalmente dá\\n{}\".format(np.hstack((V1[:5],V2))))\n",
    "print(\"Verticalmente dá\\n{}\".format(np.vstack((V1[:5],V2))))"
   ]
  },
  {
   "cell_type": "code",
   "execution_count": 14,
   "metadata": {},
   "outputs": [
    {
     "name": "stdout",
     "output_type": "stream",
     "text": [
      "También son importantes las funciones np.c_ y np.r_\n",
      "np.c_ a M1 dá:\n",
      "[[1 2 3 0]\n",
      " [4 5 6 0]]\n",
      "np.r_ a M1 dá:\n",
      "[[1 2 3]\n",
      " [4 5 6]\n",
      " [0 0 0]]\n"
     ]
    }
   ],
   "source": [
    "print(\"También son importantes las funciones np.c_ y np.r_\")\n",
    "\n",
    "print(\"np.c_ a M1 dá:\\n{}\".format(np.c_[M1,[0,0]]))\n",
    "\n",
    "print(\"np.r_ a M1 dá:\\n{}\".format(np.r_[M1,[[0,0,0]]]))"
   ]
  },
  {
   "cell_type": "code",
   "execution_count": 15,
   "metadata": {},
   "outputs": [
    {
     "name": "stdout",
     "output_type": "stream",
     "text": [
      "Se pueden crear arrays de 1 o 0 con no.ones y np.zeros\n",
      "Ejemplo:\n",
      "[0. 0. 0. 0. 0.]\n",
      "[1. 1. 1. 1. 1. 1. 1. 1. 1. 1.]\n"
     ]
    }
   ],
   "source": [
    "print(\"Se pueden crear arrays de 1 o 0 con no.ones y np.zeros\")\n",
    "\n",
    "print(\"Ejemplo:\\n{}\\n{}\".format(np.zeros(5),np.ones(10)))"
   ]
  },
  {
   "attachments": {},
   "cell_type": "markdown",
   "metadata": {},
   "source": [
    "Algunas funciones extras que pueden ser útiles"
   ]
  },
  {
   "cell_type": "code",
   "execution_count": 20,
   "metadata": {},
   "outputs": [
    {
     "name": "stdout",
     "output_type": "stream",
     "text": [
      "------------------------------------------\n",
      "Extras\n",
      "------------------------------------------\n",
      "Se puede obtener la inversa de una matriz.\n",
      " La inversa de la matriz 3 dá:\n",
      " [[-0.16666667 -0.16666667  0.5       ]\n",
      " [ 0.83333333 -1.16666667  0.5       ]\n",
      " [-0.16666667  0.83333333 -0.5       ]]\n",
      "Se puede obtener el determinante de una matriz. El determinante de la matriz 3 dá: \n",
      "6.000000000000001\n",
      "Lo mismo con el rango:\n",
      "3\n",
      "Y también los autovalores y autovectores:\n",
      "Autovalores :[ 6.         -1.00000001 -0.99999999]\n",
      "Autovectores :[[ 0.57735027  0.51449576 -0.51449575]\n",
      " [ 0.57735027  0.51449575 -0.51449576]\n",
      " [ 0.57735027 -0.68599434  0.68599434]]\n",
      "Se puede calcular la norma de un vector. La norma del vector 1 dá:\n",
      "7.416198487095663\n"
     ]
    }
   ],
   "source": [
    "print(\"------------------------------------------\")\n",
    "print(\"Extras\")\n",
    "print(\"------------------------------------------\")\n",
    "\n",
    "\n",
    "#Creamos una matriz cuadrada para usar de ejemplo:\n",
    "M3 = np.array([[1,2,3],[2,1,3],[3,1,2]])\n",
    "print(\"Se puede obtener la inversa de una matriz.\\n La inversa de la matriz 3 dá:\\n {}\".format(np.linalg.inv(M3)))\n",
    "\n",
    "print(\"Se puede obtener el determinante de una matriz. El determinante de la matriz 3 dá: \\n{}\".format(np.linalg.det(M3)))\n",
    "\n",
    "print(\"Lo mismo con el rango:\\n{}\".format(np.linalg.matrix_rank(M3)))\n",
    "w, v = np.linalg.eig(M3)\n",
    "print(\"Y también los autovalores y autovectores:\\nAutovalores :{}\\nAutovectores :{}\".format(w,v)) # Obs, los autovectores son columnas! El primero sería v[:,0]\n",
    "\n",
    "print(\"Se puede calcular la norma de un vector. La norma del vector 1 dá:\\n{}\".format(np.linalg.norm(V1)))"
   ]
  },
  {
   "attachments": {},
   "cell_type": "markdown",
   "metadata": {},
   "source": [
    "Extra con SciPy"
   ]
  },
  {
   "cell_type": "code",
   "execution_count": 17,
   "metadata": {},
   "outputs": [
    {
     "name": "stdout",
     "output_type": "stream",
     "text": [
      "El núcleo de M4 es:\n",
      " [[-0.70710678]\n",
      " [ 0.70710678]]\n"
     ]
    }
   ],
   "source": [
    "# Podemos encontrar el núcleo de una matriz con el paquete SciPy\n",
    "from scipy.linalg import null_space\n",
    "M4 = np.array([[1,1],[1,1]])\n",
    "Zero = null_space(M4,rcond=1e-36)\n",
    "print(\"El núcleo de M4 es:\\n {}\".format(Zero))\n",
    "\n",
    "#Obs: Los resultados son aproximados, pero el error es minúsculo. Se puede mirar la documentación para más detalles en\n",
    "# https://docs.scipy.org/doc/scipy/reference/generated/scipy.linalg.null_space.html .\n",
    "\n"
   ]
  },
  {
   "attachments": {},
   "cell_type": "markdown",
   "metadata": {},
   "source": [
    "Carga de csv"
   ]
  },
  {
   "cell_type": "code",
   "execution_count": 18,
   "metadata": {},
   "outputs": [
    {
     "name": "stdout",
     "output_type": "stream",
     "text": [
      "['PassengerId' 'Survived' 'Pclass' 'Name' 'Sex' 'Age' 'SibSp' 'Parch'\n",
      " 'Ticket' 'Fare' 'Cabin' 'Embarked']\n",
      "[[  1   0   3 ...   7  -1  -1]\n",
      " [  2   1   1 ...  71  -1  -1]\n",
      " [  3   1   3 ...   7  -1  -1]\n",
      " ...\n",
      " [889   0   3 ...  23  -1  -1]\n",
      " [890   1   1 ...  30  -1  -1]\n",
      " [891   0   3 ...   7  -1  -1]]\n"
     ]
    }
   ],
   "source": [
    "# Se pueden cargar csv con NumPy de la siguiente manera:\n",
    "\n",
    "data = np.genfromtxt(\"csv/train.csv\", delimiter=',',skip_header=1,dtype=int)\n",
    "encabezado=np.genfromtxt(\"csv/train.csv\", delimiter=',',max_rows=1,dtype=str)\n",
    "print(encabezado)\n",
    "print(data)\n",
    "\n",
    "# Se puede guardar con np.savetxt\n",
    "\n",
    "np.savetxt(\"csv\\ejemplo.csv\", data,delimiter=',',fmt=\"%.4f\")\n",
    "\n"
   ]
  }
 ],
 "metadata": {
  "kernelspec": {
   "display_name": "Python 3",
   "language": "python",
   "name": "python3"
  },
  "language_info": {
   "codemirror_mode": {
    "name": "ipython",
    "version": 3
   },
   "file_extension": ".py",
   "mimetype": "text/x-python",
   "name": "python",
   "nbconvert_exporter": "python",
   "pygments_lexer": "ipython3",
   "version": "3.10.10"
  },
  "orig_nbformat": 4
 },
 "nbformat": 4,
 "nbformat_minor": 2
}
