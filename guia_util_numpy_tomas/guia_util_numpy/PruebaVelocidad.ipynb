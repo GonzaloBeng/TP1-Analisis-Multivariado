{
 "cells": [
  {
   "attachments": {},
   "cell_type": "markdown",
   "metadata": {},
   "source": [
    "Probemos que Numpy es mucho más rápido que los loops de python"
   ]
  },
  {
   "cell_type": "code",
   "execution_count": 1,
   "metadata": {},
   "outputs": [],
   "source": [
    "# Importamos las librerías que vamos a usar\n",
    "import time\n",
    "import numpy as np"
   ]
  },
  {
   "cell_type": "code",
   "execution_count": 2,
   "metadata": {},
   "outputs": [],
   "source": [
    "# Creamos unas listas y las llenamos con 10000000 números del 0 al 9999999 (dá lo mismo que números metamos, \n",
    "# solo queremos ver la velocidad)\n",
    "\n",
    "A = [i for i in range(10000000)]\n",
    "B = [1 for i in range(10000000)]\n",
    "\n",
    "# Al mismo tiempo, las convertimos en arrays de numpy\n",
    "\n",
    "A_1 = np.array(A)\n",
    "B_1 = np.array(B)\n",
    "\n"
   ]
  },
  {
   "cell_type": "code",
   "execution_count": 3,
   "metadata": {},
   "outputs": [
    {
     "name": "stdout",
     "output_type": "stream",
     "text": [
      "El loop tardó 1.2839972972869873 segundos\n",
      "Numpy tardó 0.011002302169799805 segundos\n",
      "El resultado es el mimso\n"
     ]
    }
   ],
   "source": [
    "# Multiplicamos estos vectores elemento a elemento y nos fijamos cuanto tarda hacerlo por loop y por numpy\n",
    "\n",
    "res_loop = []\n",
    "\n",
    "start = time.time()\n",
    "\n",
    "for i in range(len(A)):\n",
    "    res_loop.append(A[i]*B[i])\n",
    "\n",
    "end = time.time()\n",
    "print(\"El loop tardó {} segundos\".format(end-start))\n",
    "\n",
    "start = time.time()\n",
    "\n",
    "res_loop2 = A_1*B_1.T\n",
    "\n",
    "end = time.time()\n",
    "print(\"Numpy tardó {} segundos\".format(end-start))\n",
    "\n",
    "# Por las dudas:\n",
    "if res_loop == list(res_loop2):\n",
    "    print(\"El resultado es el mismo\")\n",
    "else:\n",
    "    print(\"Algo está mal! Debería dar lo mismo.\")\n"
   ]
  },
  {
   "cell_type": "code",
   "execution_count": null,
   "metadata": {},
   "outputs": [],
   "source": []
  }
 ],
 "metadata": {
  "kernelspec": {
   "display_name": "Python 3",
   "language": "python",
   "name": "python3"
  },
  "language_info": {
   "codemirror_mode": {
    "name": "ipython",
    "version": 3
   },
   "file_extension": ".py",
   "mimetype": "text/x-python",
   "name": "python",
   "nbconvert_exporter": "python",
   "pygments_lexer": "ipython3",
   "version": "3.10.10"
  },
  "orig_nbformat": 4
 },
 "nbformat": 4,
 "nbformat_minor": 2
}
